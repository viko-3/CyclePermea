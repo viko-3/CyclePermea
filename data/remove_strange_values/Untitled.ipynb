{
 "cells": [
  {
   "cell_type": "code",
   "execution_count": 23,
   "id": "a696d592",
   "metadata": {},
   "outputs": [],
   "source": [
    "import pandas as pd"
   ]
  },
  {
   "cell_type": "code",
   "execution_count": 29,
   "id": "bc3afbc2",
   "metadata": {},
   "outputs": [],
   "source": [
    "train_path = '../train.csv'\n",
    "test_path = '../test.csv'\n",
    "val_path = '../val.csv'"
   ]
  },
  {
   "cell_type": "code",
   "execution_count": 30,
   "id": "365aa08d",
   "metadata": {},
   "outputs": [],
   "source": [
    "train_df = pd.read_csv(train_path)\n",
    "test_df = pd.read_csv(test_path)\n",
    "val_df = pd.read_csv(val_path)"
   ]
  },
  {
   "cell_type": "code",
   "execution_count": 31,
   "id": "ce135285",
   "metadata": {},
   "outputs": [],
   "source": [
    "train_df = train_df[train_df['Permeability']!=-10]\n",
    "test_df = test_df[test_df['Permeability']!=-10]\n",
    "val_df = val_df[val_df['Permeability']!=-10]"
   ]
  },
  {
   "cell_type": "code",
   "execution_count": 32,
   "id": "b63dfbfc",
   "metadata": {},
   "outputs": [],
   "source": [
    "train_df.to_csv('../remove_strange_values/train.csv',index=False)\n",
    "test_df.to_csv('../remove_strange_values/test.csv',index=False)\n",
    "val_df.to_csv('../remove_strange_values/val.csv',index=False)"
   ]
  },
  {
   "cell_type": "code",
   "execution_count": null,
   "id": "b013f9bc",
   "metadata": {},
   "outputs": [],
   "source": []
  }
 ],
 "metadata": {
  "kernelspec": {
   "display_name": "Python 3 (ipykernel)",
   "language": "python",
   "name": "python3"
  },
  "language_info": {
   "codemirror_mode": {
    "name": "ipython",
    "version": 3
   },
   "file_extension": ".py",
   "mimetype": "text/x-python",
   "name": "python",
   "nbconvert_exporter": "python",
   "pygments_lexer": "ipython3",
   "version": "3.7.13"
  }
 },
 "nbformat": 4,
 "nbformat_minor": 5
}
